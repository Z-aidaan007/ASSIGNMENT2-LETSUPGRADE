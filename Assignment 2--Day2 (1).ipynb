{
 "cells": [
  {
   "cell_type": "markdown",
   "metadata": {},
   "source": [
    "# Question 1\n",
    "\n"
   ]
  },
  {
   "cell_type": "raw",
   "metadata": {},
   "source": [
    "Write a Python program to print even numbers in a list.\n",
    "Sample:\n",
    "Input: list1 = [12, 3, 55, 6, 144]\n",
    "Output: [12, 6, 144]\n",
    "Input: list2 = [2, 10, 9, 37]\n",
    "Output: [2, 10]"
   ]
  },
  {
   "cell_type": "code",
   "execution_count": 6,
   "metadata": {},
   "outputs": [
    {
     "name": "stdout",
     "output_type": "stream",
     "text": [
      "12 3 55 6 144\n",
      "input list are:- [12, 3, 55, 6, 144]\n",
      "even number in the list1 are:- [12, 6, 144]\n"
     ]
    }
   ],
   "source": [
    "list1 = list(map(int,input().split()))\n",
    "print(\"input list are:-\",list1)\n",
    "lst=[]\n",
    "for item in list1:\n",
    "    if item%2==0:\n",
    "        lst.append(item)\n",
    "print(\"even number in the list1 are:-\",lst)        "
   ]
  },
  {
   "cell_type": "markdown",
   "metadata": {},
   "source": [
    "# question 2"
   ]
  },
  {
   "cell_type": "raw",
   "metadata": {},
   "source": [
    "Write a program to print the following pattern\n",
    "    1\n",
    "   22\n",
    "  333\n",
    " 4444\n",
    "55555"
   ]
  },
  {
   "cell_type": "code",
   "execution_count": 8,
   "metadata": {},
   "outputs": [
    {
     "name": "stdout",
     "output_type": "stream",
     "text": [
      "enter the number of rows:-8\n",
      "        1\n",
      "       22\n",
      "      333\n",
      "     4444\n",
      "    55555\n",
      "   666666\n",
      "  7777777\n",
      " 88888888\n"
     ]
    }
   ],
   "source": [
    "n= int(input(\"enter the number of rows:-\"))\n",
    "for i in range(1,n+1):\n",
    "    print(\" \"*(n-i),str(i)*i)\n",
    "    "
   ]
  },
  {
   "cell_type": "code",
   "execution_count": null,
   "metadata": {},
   "outputs": [],
   "source": []
  }
 ],
 "metadata": {
  "kernelspec": {
   "display_name": "Python 3",
   "language": "python",
   "name": "python3"
  },
  "language_info": {
   "codemirror_mode": {
    "name": "ipython",
    "version": 3
   },
   "file_extension": ".py",
   "mimetype": "text/x-python",
   "name": "python",
   "nbconvert_exporter": "python",
   "pygments_lexer": "ipython3",
   "version": "3.8.3"
  }
 },
 "nbformat": 4,
 "nbformat_minor": 4
}
